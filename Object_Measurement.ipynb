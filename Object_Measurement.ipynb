{
  "nbformat": 4,
  "nbformat_minor": 0,
  "metadata": {
    "colab": {
      "name": "Object_Measurement.ipynb",
      "provenance": [],
      "collapsed_sections": [],
      "authorship_tag": "ABX9TyNohnieriVEQRqHbhEW22Gb",
      "include_colab_link": true
    },
    "kernelspec": {
      "name": "python3",
      "display_name": "Python 3"
    }
  },
  "cells": [
    {
      "cell_type": "markdown",
      "metadata": {
        "id": "view-in-github",
        "colab_type": "text"
      },
      "source": [
        "<a href=\"https://colab.research.google.com/github/chachia-wacef/ComputerVision/blob/main/Object_Measurement.ipynb\" target=\"_parent\"><img src=\"https://colab.research.google.com/assets/colab-badge.svg\" alt=\"Open In Colab\"/></a>"
      ]
    },
    {
      "cell_type": "code",
      "metadata": {
        "id": "UREX1zxRcPWQ"
      },
      "source": [
        "import cv2\r\n",
        "import numpy as np\r\n",
        "from google.colab.patches import cv2_imshow"
      ],
      "execution_count": 2,
      "outputs": []
    },
    {
      "cell_type": "code",
      "metadata": {
        "id": "_wfYwfaX5mYd"
      },
      "source": [
        "def getContours(img,cThr=[100,100],showCanny=False,minArea=1000,filter=0,draw =False):\r\n",
        "    imgGray = cv2.cvtColor(img,cv2.COLOR_BGR2GRAY)\r\n",
        "    imgBlur = cv2.GaussianBlur(imgGray,(5,5),1)\r\n",
        "    imgCanny = cv2.Canny(imgBlur,cThr[0],cThr[1])\r\n",
        "\r\n",
        "    kernel = np.ones((5,5))\r\n",
        "\r\n",
        "    imgDial = cv2.dilate(imgCanny,kernel,iterations=3)\r\n",
        "    imgThre = cv2.erode(imgDial,kernel,iterations=2)\r\n",
        "    \r\n",
        "    if showCanny:\r\n",
        "      cv2_imshow(imgThre)\r\n",
        "\r\n",
        "    contours,hiearchy = cv2.findContours(imgThre,cv2.RETR_EXTERNAL,cv2.CHAIN_APPROX_SIMPLE)\r\n",
        "    finalCountours = []\r\n",
        "    for i in contours:\r\n",
        "        area = cv2.contourArea(i)\r\n",
        "        if area > minArea:\r\n",
        "            peri = cv2.arcLength(i,True)\r\n",
        "            approx = cv2.approxPolyDP(i,0.02*peri,True)\r\n",
        "            bbox = cv2.boundingRect(approx)\r\n",
        "            if filter > 0:\r\n",
        "                if len(approx) == filter:\r\n",
        "                    finalCountours.append([len(approx),area,approx,bbox,i])\r\n",
        "            else:\r\n",
        "                finalCountours.append([len(approx),area,approx,bbox,i])\r\n",
        "\r\n",
        "    finalCountours = sorted(finalCountours,key = lambda x:x[1] ,reverse= True)\r\n",
        "\r\n",
        "    if draw:\r\n",
        "        for con in finalCountours:\r\n",
        "            cv2.drawContours(img,con[4],-1,(0,0,255),3)\r\n",
        "    return img, finalCountours"
      ],
      "execution_count": null,
      "outputs": []
    },
    {
      "cell_type": "code",
      "metadata": {
        "id": "aANzyANt5ty8"
      },
      "source": [
        "#fonction pour arranger les points et les mettre a une ordre bien déterminé\r\n",
        "def reorder(myPoints):\r\n",
        "    #print(myPoints.shape)\r\n",
        "    myPointsNew = np.zeros_like(myPoints)\r\n",
        "    myPoints = myPoints.reshape((4,2))\r\n",
        "    add = myPoints.sum(1)\r\n",
        "\r\n",
        "    myPointsNew[0] = myPoints[np.argmin(add)]\r\n",
        "    myPointsNew[3] = myPoints[np.argmax(add)]\r\n",
        "    diff = np.diff(myPoints,axis=1)\r\n",
        "    myPointsNew[1]= myPoints[np.argmin(diff)]\r\n",
        "    myPointsNew[2] = myPoints[np.argmax(diff)]\r\n",
        "\r\n",
        "    return myPointsNew"
      ],
      "execution_count": null,
      "outputs": []
    },
    {
      "cell_type": "code",
      "metadata": {
        "id": "3jCJaBDZ5wHT"
      },
      "source": [
        "def warpImg (img,points,w,h,pad=20):\r\n",
        "    # print(points)\r\n",
        "    points =reorder(points)\r\n",
        "    #les points originales :\r\n",
        "    pts1 = np.float32(points)\r\n",
        "    #les nouveaux points :\r\n",
        "    pts2 = np.float32([[0,0],[w,0],[0,h],[w,h]])\r\n",
        "    #construire la matrice qui permet de faire cette changement\r\n",
        "    matrix = cv2.getPerspectiveTransform(pts1,pts2)\r\n",
        "    #effectuer cette changement a l'image\r\n",
        "    imgWarp = cv2.warpPerspective(img,matrix,(w,h))\r\n",
        "\r\n",
        "    imgWarp = imgWarp[pad:imgWarp.shape[0]-pad,pad:imgWarp.shape[1]-pad]\r\n",
        "\r\n",
        "    return imgWarp"
      ],
      "execution_count": null,
      "outputs": []
    },
    {
      "cell_type": "code",
      "metadata": {
        "id": "2Pxv-uTa5yoL"
      },
      "source": [
        "#calculer la distance euclidienne entre 2 points\r\n",
        "def findDis(pts1,pts2):\r\n",
        "    return ((pts2[0]-pts1[0])**2 + (pts2[1]-pts1[1])**2)**0.5"
      ],
      "execution_count": null,
      "outputs": []
    },
    {
      "cell_type": "code",
      "metadata": {
        "id": "oNvZuQTMeFyk"
      },
      "source": [
        "path = '1.jpg'\r\n",
        "scale = 3\r\n",
        "wP = 210 *scale\r\n",
        "hP= 297 *scale\r\n",
        "\r\n",
        "#lire l'image\r\n",
        "img = cv2.imread(path)\r\n",
        "\r\n",
        "#déterminer les contours , dessiner les contours si \"draw=True\" passé au paramétres \r\n",
        "imgContours , conts = getContours(img,minArea=50000,filter=4)\r\n",
        "\r\n",
        "#si'lya des contours\r\n",
        "if len(conts) != 0:\r\n",
        "  biggest = conts[0][2]\r\n",
        "  #faire la rotation et la translation de l'image\r\n",
        "  imgWarp = warpImg(img, biggest, wP,hP)\r\n",
        "  #déterminer les nouveaux contours\r\n",
        "  imgContours2, conts2 = getContours(imgWarp,minArea=2000, filter=4,cThr=[50,50],draw = False)\r\n",
        "  #si'lya des nouveaux contours\r\n",
        "  if len(conts) != 0:\r\n",
        "    for obj in conts2:\r\n",
        "      cv2.polylines(imgContours2,[obj[2]],True,(0,255,0),2)\r\n",
        "      nPoints = reorder(obj[2])\r\n",
        "      \r\n",
        "      #déterminer les dimensions de l'objet\r\n",
        "      nW = round((findDis(nPoints[0][0]//scale,nPoints[1][0]//scale)/10),1)\r\n",
        "      nH = round((findDis(nPoints[0][0]//scale,nPoints[2][0]//scale)/10),1)\r\n",
        "\r\n",
        "      cv2.arrowedLine(imgContours2, (nPoints[0][0][0], nPoints[0][0][1]), (nPoints[1][0][0], nPoints[1][0][1]),(255, 0, 255), 3, 8, 0, 0.05)\r\n",
        "      cv2.arrowedLine(imgContours2, (nPoints[0][0][0], nPoints[0][0][1]), (nPoints[2][0][0], nPoints[2][0][1]),(255, 0, 255), 3, 8, 0, 0.05)\r\n",
        "\r\n",
        "      x, y, w, h = obj[3]\r\n",
        "\r\n",
        "      #écire les dimensions trouvées sur l'image\r\n",
        "\r\n",
        "      cv2.putText(imgContours2, '{}cm'.format(nW), (x + 30, y - 10), cv2.FONT_HERSHEY_COMPLEX_SMALL, 1.5,(255, 0, 255), 2)\r\n",
        "      cv2.putText(imgContours2, '{}cm'.format(nH), (x - 70, y + h // 2), cv2.FONT_HERSHEY_COMPLEX_SMALL, 1.5,(255, 0, 255), 2)\r\n",
        "      #afficher le résultat\r\n",
        "      cv2_imshow(imgContours2)\r\n",
        " \r\n",
        "  img = cv2.resize(img,(0,0),None,0.5,0.5)\r\n",
        "  cv2_imshow(img)"
      ],
      "execution_count": null,
      "outputs": []
    }
  ]
}